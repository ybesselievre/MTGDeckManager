{
 "cells": [
  {
   "cell_type": "markdown",
   "id": "bde56c4f",
   "metadata": {},
   "source": [
    "# MTG deck manager\n",
    "Use this notebook to go through your collection computationnally. I also personnally used it to produce MPC lists: the \"is_shared\" column identifies card that are in more than 4 examples in your collection, such that you can print them only in 4 exemplaries if you don't want to print too many cards."
   ]
  },
  {
   "cell_type": "code",
   "execution_count": 1,
   "id": "e3e4d602",
   "metadata": {},
   "outputs": [],
   "source": [
    "%load_ext autoreload\n",
    "%autoreload 2\n",
    "import os\n",
    "import sys\n",
    "if \"../\" not in sys.path:\n",
    "    sys.path.insert(0, \"../\")\n",
    "    \n",
    "from scripts.deck_management import *\n",
    "\n",
    "pd.set_option('display.max_rows', 100000)"
   ]
  },
  {
   "cell_type": "code",
   "execution_count": 3,
   "id": "1053eb92",
   "metadata": {},
   "outputs": [
    {
     "data": {
      "application/vnd.jupyter.widget-view+json": {
       "model_id": "f3d079e301f24a618421e4b31f89a4eb",
       "version_major": 2,
       "version_minor": 0
      },
      "text/plain": [
       "  0%|          | 0/15 [00:00<?, ?it/s]"
      ]
     },
     "metadata": {},
     "output_type": "display_data"
    }
   ],
   "source": [
    "commanders = [\"Alela\", \"Atraxa\", \"Eldrazi\", \"Go-Shintai\", \"Isshin\", \"Ivy\", \"Jodah\", \"Lathril\", \"Liesa\", \"Niv Reborn\", \"Dihada\", \"Ur-Dragon\", \"Volo\", \"Yarok\", \"Yoshimaru\"]\n",
    "cube_dir = \"decks/SheepShipper360Cube.csv\"\n",
    "decks = create_card_table(commanders, cube_dir)"
   ]
  },
  {
   "cell_type": "code",
   "execution_count": 4,
   "id": "566d6e64",
   "metadata": {},
   "outputs": [
    {
     "data": {
      "text/html": [
       "<div>\n",
       "<style scoped>\n",
       "    .dataframe tbody tr th:only-of-type {\n",
       "        vertical-align: middle;\n",
       "    }\n",
       "\n",
       "    .dataframe tbody tr th {\n",
       "        vertical-align: top;\n",
       "    }\n",
       "\n",
       "    .dataframe thead th {\n",
       "        text-align: right;\n",
       "    }\n",
       "</style>\n",
       "<table border=\"1\" class=\"dataframe\">\n",
       "  <thead>\n",
       "    <tr style=\"text-align: right;\">\n",
       "      <th></th>\n",
       "      <th>Name</th>\n",
       "      <th>Group</th>\n",
       "      <th>Quantity</th>\n",
       "      <th>is_shared</th>\n",
       "      <th>is_land</th>\n",
       "    </tr>\n",
       "  </thead>\n",
       "  <tbody>\n",
       "    <tr>\n",
       "      <th>0</th>\n",
       "      <td>Abrade</td>\n",
       "      <td>Cube</td>\n",
       "      <td>1</td>\n",
       "      <td>False</td>\n",
       "      <td>False</td>\n",
       "    </tr>\n",
       "    <tr>\n",
       "      <th>1</th>\n",
       "      <td>Abrupt Decay</td>\n",
       "      <td>Cube</td>\n",
       "      <td>1</td>\n",
       "      <td>False</td>\n",
       "      <td>False</td>\n",
       "    </tr>\n",
       "    <tr>\n",
       "      <th>2</th>\n",
       "      <td>Adeline, Resplendent Cathar</td>\n",
       "      <td>Cube</td>\n",
       "      <td>1</td>\n",
       "      <td>False</td>\n",
       "      <td>False</td>\n",
       "    </tr>\n",
       "    <tr>\n",
       "      <th>3</th>\n",
       "      <td>Ajani Vengeant</td>\n",
       "      <td>Cube</td>\n",
       "      <td>1</td>\n",
       "      <td>False</td>\n",
       "      <td>False</td>\n",
       "    </tr>\n",
       "    <tr>\n",
       "      <th>4</th>\n",
       "      <td>Ancestral Recall</td>\n",
       "      <td>Cube</td>\n",
       "      <td>1</td>\n",
       "      <td>False</td>\n",
       "      <td>False</td>\n",
       "    </tr>\n",
       "  </tbody>\n",
       "</table>\n",
       "</div>"
      ],
      "text/plain": [
       "                          Name Group  Quantity  is_shared  is_land\n",
       "0                       Abrade  Cube         1      False    False\n",
       "1                 Abrupt Decay  Cube         1      False    False\n",
       "2  Adeline, Resplendent Cathar  Cube         1      False    False\n",
       "3               Ajani Vengeant  Cube         1      False    False\n",
       "4             Ancestral Recall  Cube         1      False    False"
      ]
     },
     "execution_count": 4,
     "metadata": {},
     "output_type": "execute_result"
    }
   ],
   "source": [
    "decks.head(5)"
   ]
  }
 ],
 "metadata": {
  "kernelspec": {
   "display_name": "pipeline_env",
   "language": "python",
   "name": "pipeline_env"
  },
  "language_info": {
   "codemirror_mode": {
    "name": "ipython",
    "version": 3
   },
   "file_extension": ".py",
   "mimetype": "text/x-python",
   "name": "python",
   "nbconvert_exporter": "python",
   "pygments_lexer": "ipython3",
   "version": "3.10.4"
  }
 },
 "nbformat": 4,
 "nbformat_minor": 5
}
